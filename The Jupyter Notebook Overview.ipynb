{
 "cells": [
  {
   "cell_type": "markdown",
   "metadata": {},
   "source": [
    "# The Jupyter Notebook: Overview"
   ]
  },
  {
   "cell_type": "markdown",
   "metadata": {},
   "source": [
    "> * **Author:** Gabriele Accarino\n",
    "> * **Contacts:** gabriele.accarino@unisalento.it, gabriele.accarino@cmcc.it   "
   ]
  },
  {
   "cell_type": "markdown",
   "metadata": {},
   "source": [
    "# Table of Contents\n",
    "* [Installation and Environment Setup](#Installation and Environment Setup)\n",
    "    * [The Jupyter Notebook](#The Jupyter Notebook)\n",
    "    * [Skills](#Skills)\n",
    "    * [Prerequisite: Python](#Prerequisite: Python)\n",
    "    * [Installing Jupyter using Anaconda](#Installing Jupyter using Anaconda)\n",
    "    * [Installing Jupyter with pip](#Installing Jupyter with pip)\n",
    "    * [How to write your documentation](#How to write your documentation)\n",
    "    * [How to write formulas](#How to write formulas)\n",
    "    * [Why Python?](#Why Python?)"
   ]
  },
  {
   "cell_type": "markdown",
   "metadata": {},
   "source": [
    "# Installation and Environment Setup<a name=\"Installation and Environment Setup\"></a>"
   ]
  },
  {
   "cell_type": "markdown",
   "metadata": {},
   "source": [
    "## The Jupyter Notebook<a name=\"The Jupyter Notebook\"></a>\n",
    "The Jupyter Notebook is an open-source web application that allows you to create and share documents that contain live code, equations, visualizations and narrative text. Uses include: data cleaning and transformation, numerical simulation, statistical modeling, data visualization, machine learning, and much more.\n",
    "\n",
    "- https://jupyter.org\n",
    "\n",
    "## Skills<a name=\"Skills\"></a> \n",
    "\n",
    "<img src=\"files/img/img_python_tutorial/jupyter_skills.png\" alt=\"Markdown Monster icon\" style=\"float: left; margin-right: 10px;\" />"
   ]
  },
  {
   "cell_type": "markdown",
   "metadata": {},
   "source": [
    "## Prerequisite: Python<a name=\"Prerequisite: Python\"></a> "
   ]
  },
  {
   "cell_type": "markdown",
   "metadata": {},
   "source": [
    "While Jupyter runs code in many programming languages, Python is a requirement (Python 3.3 or greater, or Python 2.7) for installing the Jupyter Notebook itself.\n",
    "\n",
    "> **Python 3.X recommended**\n",
    "\n"
   ]
  },
  {
   "cell_type": "markdown",
   "metadata": {},
   "source": [
    "## Installing Jupyter using Anaconda<a name=\"Installing Jupyter using Anaconda\"></a> "
   ]
  },
  {
   "cell_type": "markdown",
   "metadata": {},
   "source": [
    "We strongly recommend installing Python and Jupyter using the Anaconda Distribution, which includes Python, the Jupyter Notebook, and other commonly used packages for scientific computing and data science.\n",
    "\n",
    "First, download [Anaconda](https://www.anaconda.com/distribution/). We recommend downloading Anaconda’s latest Python 3 version.\n",
    "\n",
    "Second, install the version of Anaconda which you downloaded, following the instructions on the download page.\n",
    "\n",
    "Congratulations, you have installed Jupyter Notebook! To run the notebook, run the following command at the Terminal (Mac/Linux) or Command Prompt (Windows):\n",
    "\n",
    "`jupyter notebook`\n",
    "\n",
    "See [Running the Notebook](https://jupyter.readthedocs.io/en/latest/running.html#running) for more details."
   ]
  },
  {
   "cell_type": "markdown",
   "metadata": {},
   "source": [
    "## Installing Jupyter with pip<a name=\"Installing Jupyter with pip\"></a> "
   ]
  },
  {
   "cell_type": "markdown",
   "metadata": {},
   "source": [
    "As an existing or experienced Python user, you may wish to install Jupyter using Python’s package manager, pip, instead of Anaconda.\n",
    "\n",
    "If you have Python 3 installed (which is recommended):\n",
    "\n",
    "`python3 -m pip install --upgrade pip`<br>\n",
    "`python3 -m pip install jupyter`\n",
    "    \n",
    "If you have Python 2 installed:\n",
    "\n",
    "`python -m pip install --upgrade pip`<br>\n",
    "`python -m pip install jupyter`\n",
    "    \n",
    "Congratulations, you have installed Jupyter Notebook! To run the notebook, run the following command at the Terminal (Mac/Linux) or Command Prompt (Windows):\n",
    "\n",
    "`jupyter notebook`\n",
    "    \n",
    "See [Running the Notebook](https://jupyter.readthedocs.io/en/latest/running.html#running) for more details."
   ]
  },
  {
   "cell_type": "markdown",
   "metadata": {},
   "source": [
    "## How to write your documentation<a name=\"How to write your documentation\"></a>"
   ]
  },
  {
   "cell_type": "markdown",
   "metadata": {},
   "source": [
    "### Markdown\n",
    "All the materials above are written in markdown. We can switch the content type in each cell in the menu bar. Different key bindings have different shortcuts. We can use Help menu to find the corresponding shortcut.\n",
    "Markdown is a lightweight markup language to format text. It is easy to use and contains formatting tools for most of the highlighting that we wants. See here for more details.\n",
    "By combining the use of markdown and code as well as results really help logging one's research a lot easier. Some references:\n",
    "\n",
    "- https://www.markdownguide.org\n",
    "- https://guides.github.com/pdfs/markdown-cheatsheet-online.pdf\n",
    "- https://www.markdowntutorial.com\n",
    "- https://commonmark.org/help/\n"
   ]
  },
  {
   "cell_type": "markdown",
   "metadata": {},
   "source": [
    "## How to write formulas<a name=\"How to write formulas\"></a>"
   ]
  },
  {
   "cell_type": "markdown",
   "metadata": {},
   "source": [
    "Well, you can write your formulas inside Markdown cells by using _LaTeX_, you don't need to install it on your laptop because it cames with the jupyter environment. Just use the _LaTeX_ syntax. For example:\n",
    "\n",
    "$$\\large J(\\theta) = \\frac{1}{2m} \\sum_{i = 1}^{m}(h_{\\theta}(x^{(i)})-y^{(i)})^2$$\n",
    "\n",
    "and this is the **Linear Regression** cost function. We will see later in the course!\n",
    "Also, you can write formulas inside the text, like $x+y=1$. To learn more about LaTeX:\n",
    "\n",
    "- https://wch.github.io/latexsheet/latexsheet-a4.pdf\n",
    "- https://www.latex-tutorial.com/tutorials/"
   ]
  },
  {
   "cell_type": "markdown",
   "metadata": {},
   "source": [
    "## Why Python?<a name=\"Why Python?\"></a>"
   ]
  },
  {
   "cell_type": "markdown",
   "metadata": {},
   "source": [
    "Python is a modern, robust, high level programming language. It is very easy to pick up even if you are completely new to programming.\n",
    "\n",
    "### Popular language for Data Science\n",
    "\n",
    "Most of the time, you will need external packages to work with data.\n",
    "\n",
    " ![Python Packages](http://i.imgur.com/Q8trGd1.png)\n",
    " \n",
    "Also, **Machine Learning** and **Deep Learning** frameworks like TensorFlow and Theano are available. Libraries like **Keras** allow us to prototype new learning algorithms much faster."
   ]
  },
  {
   "cell_type": "markdown",
   "metadata": {},
   "source": [
    "## [New!] Jupyter Extensions"
   ]
  },
  {
   "cell_type": "markdown",
   "metadata": {},
   "source": [
    "`pip3 install jupyter_contrib_nbextensions && jupyter contrib nbextension install`"
   ]
  },
  {
   "cell_type": "markdown",
   "metadata": {},
   "source": [
    "### What are notebook extensions?\n",
    "Jupyter Notebook extensions are simple add-ons that extend the basic functionality of the notebook environment. Written in JavaScript, they do things like autoformat your code or send a browser notification when a cell has completed."
   ]
  }
 ],
 "metadata": {
  "kernelspec": {
   "display_name": "Python 3",
   "language": "python",
   "name": "python3"
  },
  "language_info": {
   "codemirror_mode": {
    "name": "ipython",
    "version": 3
   },
   "file_extension": ".py",
   "mimetype": "text/x-python",
   "name": "python",
   "nbconvert_exporter": "python",
   "pygments_lexer": "ipython3",
   "version": "3.9.5"
  },
  "latex_envs": {
   "LaTeX_envs_menu_present": true,
   "autoclose": false,
   "autocomplete": true,
   "bibliofile": "biblio.bib",
   "cite_by": "apalike",
   "current_citInitial": 1,
   "eqLabelWithNumbers": true,
   "eqNumInitial": 1,
   "hotkeys": {
    "equation": "Ctrl-E",
    "itemize": "Ctrl-I"
   },
   "labels_anchors": false,
   "latex_user_defs": false,
   "report_style_numbering": false,
   "user_envs_cfg": false
  },
  "toc": {
   "base_numbering": 1,
   "nav_menu": {},
   "number_sections": true,
   "sideBar": true,
   "skip_h1_title": false,
   "title_cell": "Table of Contents",
   "title_sidebar": "Contents",
   "toc_cell": false,
   "toc_position": {},
   "toc_section_display": true,
   "toc_window_display": false
  },
  "varInspector": {
   "cols": {
    "lenName": 16,
    "lenType": 16,
    "lenVar": 40
   },
   "kernels_config": {
    "python": {
     "delete_cmd_postfix": "",
     "delete_cmd_prefix": "del ",
     "library": "var_list.py",
     "varRefreshCmd": "print(var_dic_list())"
    },
    "r": {
     "delete_cmd_postfix": ") ",
     "delete_cmd_prefix": "rm(",
     "library": "var_list.r",
     "varRefreshCmd": "cat(var_dic_list()) "
    }
   },
   "types_to_exclude": [
    "module",
    "function",
    "builtin_function_or_method",
    "instance",
    "_Feature"
   ],
   "window_display": false
  }
 },
 "nbformat": 4,
 "nbformat_minor": 2
}
