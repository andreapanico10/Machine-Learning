{
 "cells": [
  {
   "cell_type": "markdown",
   "id": "96944ccb",
   "metadata": {},
   "source": [
    "# MULTIVARIATE LINEAR REGRESSION"
   ]
  },
  {
   "cell_type": "code",
   "execution_count": 1,
   "id": "6567f4fd",
   "metadata": {
    "ExecuteTime": {
     "end_time": "2022-04-03T13:44:16.510641Z",
     "start_time": "2022-04-03T13:44:15.677634Z"
    },
    "run_control": {
     "marked": false
    }
   },
   "outputs": [],
   "source": [
    "import pandas as pd\n",
    "import numpy as np\n",
    "from matplotlib import pyplot as plt\n",
    "import time \n",
    "from sklearn.linear_model import LinearRegression\n",
    "from matplotlib import cm\n"
   ]
  },
  {
   "cell_type": "markdown",
   "id": "ed091459",
   "metadata": {},
   "source": [
    "# READ THE DATASET"
   ]
  },
  {
   "cell_type": "code",
   "execution_count": 2,
   "id": "e747844e",
   "metadata": {
    "ExecuteTime": {
     "end_time": "2022-04-03T13:44:16.518834Z",
     "start_time": "2022-04-03T13:44:16.514715Z"
    }
   },
   "outputs": [],
   "source": [
    "dataframe = pd.read_csv(\"./Data/ex1data2.txt\", delimiter=',', header = 0, dtype = np.float32)\n",
    "# otterrò una struttura dati chiamata pandas dataframe\n",
    "# l'indice è fittizio e può essere usato per le queries"
   ]
  },
  {
   "cell_type": "code",
   "execution_count": 3,
   "id": "e476f568",
   "metadata": {
    "ExecuteTime": {
     "end_time": "2022-04-03T13:44:16.543701Z",
     "start_time": "2022-04-03T13:44:16.530397Z"
    }
   },
   "outputs": [
    {
     "data": {
      "text/html": [
       "<div>\n",
       "<style scoped>\n",
       "    .dataframe tbody tr th:only-of-type {\n",
       "        vertical-align: middle;\n",
       "    }\n",
       "\n",
       "    .dataframe tbody tr th {\n",
       "        vertical-align: top;\n",
       "    }\n",
       "\n",
       "    .dataframe thead th {\n",
       "        text-align: right;\n",
       "    }\n",
       "</style>\n",
       "<table border=\"1\" class=\"dataframe\">\n",
       "  <thead>\n",
       "    <tr style=\"text-align: right;\">\n",
       "      <th></th>\n",
       "      <th>Size of the house (in square feet)</th>\n",
       "      <th>Number of bedrooms</th>\n",
       "      <th>Price of the house</th>\n",
       "    </tr>\n",
       "  </thead>\n",
       "  <tbody>\n",
       "    <tr>\n",
       "      <th>0</th>\n",
       "      <td>2104.0</td>\n",
       "      <td>3.0</td>\n",
       "      <td>399900.0</td>\n",
       "    </tr>\n",
       "    <tr>\n",
       "      <th>1</th>\n",
       "      <td>1600.0</td>\n",
       "      <td>3.0</td>\n",
       "      <td>329900.0</td>\n",
       "    </tr>\n",
       "    <tr>\n",
       "      <th>2</th>\n",
       "      <td>2400.0</td>\n",
       "      <td>3.0</td>\n",
       "      <td>369000.0</td>\n",
       "    </tr>\n",
       "    <tr>\n",
       "      <th>3</th>\n",
       "      <td>1416.0</td>\n",
       "      <td>2.0</td>\n",
       "      <td>232000.0</td>\n",
       "    </tr>\n",
       "    <tr>\n",
       "      <th>4</th>\n",
       "      <td>3000.0</td>\n",
       "      <td>4.0</td>\n",
       "      <td>539900.0</td>\n",
       "    </tr>\n",
       "    <tr>\n",
       "      <th>5</th>\n",
       "      <td>1985.0</td>\n",
       "      <td>4.0</td>\n",
       "      <td>299900.0</td>\n",
       "    </tr>\n",
       "    <tr>\n",
       "      <th>6</th>\n",
       "      <td>1534.0</td>\n",
       "      <td>3.0</td>\n",
       "      <td>314900.0</td>\n",
       "    </tr>\n",
       "    <tr>\n",
       "      <th>7</th>\n",
       "      <td>1427.0</td>\n",
       "      <td>3.0</td>\n",
       "      <td>198999.0</td>\n",
       "    </tr>\n",
       "    <tr>\n",
       "      <th>8</th>\n",
       "      <td>1380.0</td>\n",
       "      <td>3.0</td>\n",
       "      <td>212000.0</td>\n",
       "    </tr>\n",
       "    <tr>\n",
       "      <th>9</th>\n",
       "      <td>1494.0</td>\n",
       "      <td>3.0</td>\n",
       "      <td>242500.0</td>\n",
       "    </tr>\n",
       "    <tr>\n",
       "      <th>10</th>\n",
       "      <td>1940.0</td>\n",
       "      <td>4.0</td>\n",
       "      <td>239999.0</td>\n",
       "    </tr>\n",
       "    <tr>\n",
       "      <th>11</th>\n",
       "      <td>2000.0</td>\n",
       "      <td>3.0</td>\n",
       "      <td>347000.0</td>\n",
       "    </tr>\n",
       "    <tr>\n",
       "      <th>12</th>\n",
       "      <td>1890.0</td>\n",
       "      <td>3.0</td>\n",
       "      <td>329999.0</td>\n",
       "    </tr>\n",
       "    <tr>\n",
       "      <th>13</th>\n",
       "      <td>4478.0</td>\n",
       "      <td>5.0</td>\n",
       "      <td>699900.0</td>\n",
       "    </tr>\n",
       "    <tr>\n",
       "      <th>14</th>\n",
       "      <td>1268.0</td>\n",
       "      <td>3.0</td>\n",
       "      <td>259900.0</td>\n",
       "    </tr>\n",
       "    <tr>\n",
       "      <th>15</th>\n",
       "      <td>2300.0</td>\n",
       "      <td>4.0</td>\n",
       "      <td>449900.0</td>\n",
       "    </tr>\n",
       "    <tr>\n",
       "      <th>16</th>\n",
       "      <td>1320.0</td>\n",
       "      <td>2.0</td>\n",
       "      <td>299900.0</td>\n",
       "    </tr>\n",
       "    <tr>\n",
       "      <th>17</th>\n",
       "      <td>1236.0</td>\n",
       "      <td>3.0</td>\n",
       "      <td>199900.0</td>\n",
       "    </tr>\n",
       "    <tr>\n",
       "      <th>18</th>\n",
       "      <td>2609.0</td>\n",
       "      <td>4.0</td>\n",
       "      <td>499998.0</td>\n",
       "    </tr>\n",
       "    <tr>\n",
       "      <th>19</th>\n",
       "      <td>3031.0</td>\n",
       "      <td>4.0</td>\n",
       "      <td>599000.0</td>\n",
       "    </tr>\n",
       "    <tr>\n",
       "      <th>20</th>\n",
       "      <td>1767.0</td>\n",
       "      <td>3.0</td>\n",
       "      <td>252900.0</td>\n",
       "    </tr>\n",
       "    <tr>\n",
       "      <th>21</th>\n",
       "      <td>1888.0</td>\n",
       "      <td>2.0</td>\n",
       "      <td>255000.0</td>\n",
       "    </tr>\n",
       "    <tr>\n",
       "      <th>22</th>\n",
       "      <td>1604.0</td>\n",
       "      <td>3.0</td>\n",
       "      <td>242900.0</td>\n",
       "    </tr>\n",
       "    <tr>\n",
       "      <th>23</th>\n",
       "      <td>1962.0</td>\n",
       "      <td>4.0</td>\n",
       "      <td>259900.0</td>\n",
       "    </tr>\n",
       "    <tr>\n",
       "      <th>24</th>\n",
       "      <td>3890.0</td>\n",
       "      <td>3.0</td>\n",
       "      <td>573900.0</td>\n",
       "    </tr>\n",
       "    <tr>\n",
       "      <th>25</th>\n",
       "      <td>1100.0</td>\n",
       "      <td>3.0</td>\n",
       "      <td>249900.0</td>\n",
       "    </tr>\n",
       "    <tr>\n",
       "      <th>26</th>\n",
       "      <td>1458.0</td>\n",
       "      <td>3.0</td>\n",
       "      <td>464500.0</td>\n",
       "    </tr>\n",
       "    <tr>\n",
       "      <th>27</th>\n",
       "      <td>2526.0</td>\n",
       "      <td>3.0</td>\n",
       "      <td>469000.0</td>\n",
       "    </tr>\n",
       "    <tr>\n",
       "      <th>28</th>\n",
       "      <td>2200.0</td>\n",
       "      <td>3.0</td>\n",
       "      <td>475000.0</td>\n",
       "    </tr>\n",
       "    <tr>\n",
       "      <th>29</th>\n",
       "      <td>2637.0</td>\n",
       "      <td>3.0</td>\n",
       "      <td>299900.0</td>\n",
       "    </tr>\n",
       "    <tr>\n",
       "      <th>30</th>\n",
       "      <td>1839.0</td>\n",
       "      <td>2.0</td>\n",
       "      <td>349900.0</td>\n",
       "    </tr>\n",
       "    <tr>\n",
       "      <th>31</th>\n",
       "      <td>1000.0</td>\n",
       "      <td>1.0</td>\n",
       "      <td>169900.0</td>\n",
       "    </tr>\n",
       "    <tr>\n",
       "      <th>32</th>\n",
       "      <td>2040.0</td>\n",
       "      <td>4.0</td>\n",
       "      <td>314900.0</td>\n",
       "    </tr>\n",
       "    <tr>\n",
       "      <th>33</th>\n",
       "      <td>3137.0</td>\n",
       "      <td>3.0</td>\n",
       "      <td>579900.0</td>\n",
       "    </tr>\n",
       "    <tr>\n",
       "      <th>34</th>\n",
       "      <td>1811.0</td>\n",
       "      <td>4.0</td>\n",
       "      <td>285900.0</td>\n",
       "    </tr>\n",
       "    <tr>\n",
       "      <th>35</th>\n",
       "      <td>1437.0</td>\n",
       "      <td>3.0</td>\n",
       "      <td>249900.0</td>\n",
       "    </tr>\n",
       "    <tr>\n",
       "      <th>36</th>\n",
       "      <td>1239.0</td>\n",
       "      <td>3.0</td>\n",
       "      <td>229900.0</td>\n",
       "    </tr>\n",
       "    <tr>\n",
       "      <th>37</th>\n",
       "      <td>2132.0</td>\n",
       "      <td>4.0</td>\n",
       "      <td>345000.0</td>\n",
       "    </tr>\n",
       "    <tr>\n",
       "      <th>38</th>\n",
       "      <td>4215.0</td>\n",
       "      <td>4.0</td>\n",
       "      <td>549000.0</td>\n",
       "    </tr>\n",
       "    <tr>\n",
       "      <th>39</th>\n",
       "      <td>2162.0</td>\n",
       "      <td>4.0</td>\n",
       "      <td>287000.0</td>\n",
       "    </tr>\n",
       "    <tr>\n",
       "      <th>40</th>\n",
       "      <td>1664.0</td>\n",
       "      <td>2.0</td>\n",
       "      <td>368500.0</td>\n",
       "    </tr>\n",
       "    <tr>\n",
       "      <th>41</th>\n",
       "      <td>2238.0</td>\n",
       "      <td>3.0</td>\n",
       "      <td>329900.0</td>\n",
       "    </tr>\n",
       "    <tr>\n",
       "      <th>42</th>\n",
       "      <td>2567.0</td>\n",
       "      <td>4.0</td>\n",
       "      <td>314000.0</td>\n",
       "    </tr>\n",
       "    <tr>\n",
       "      <th>43</th>\n",
       "      <td>1200.0</td>\n",
       "      <td>3.0</td>\n",
       "      <td>299000.0</td>\n",
       "    </tr>\n",
       "    <tr>\n",
       "      <th>44</th>\n",
       "      <td>852.0</td>\n",
       "      <td>2.0</td>\n",
       "      <td>179900.0</td>\n",
       "    </tr>\n",
       "    <tr>\n",
       "      <th>45</th>\n",
       "      <td>1852.0</td>\n",
       "      <td>4.0</td>\n",
       "      <td>299900.0</td>\n",
       "    </tr>\n",
       "    <tr>\n",
       "      <th>46</th>\n",
       "      <td>1203.0</td>\n",
       "      <td>3.0</td>\n",
       "      <td>239500.0</td>\n",
       "    </tr>\n",
       "  </tbody>\n",
       "</table>\n",
       "</div>"
      ],
      "text/plain": [
       "    Size of the house (in square feet)  Number of bedrooms  Price of the house\n",
       "0                               2104.0                 3.0            399900.0\n",
       "1                               1600.0                 3.0            329900.0\n",
       "2                               2400.0                 3.0            369000.0\n",
       "3                               1416.0                 2.0            232000.0\n",
       "4                               3000.0                 4.0            539900.0\n",
       "5                               1985.0                 4.0            299900.0\n",
       "6                               1534.0                 3.0            314900.0\n",
       "7                               1427.0                 3.0            198999.0\n",
       "8                               1380.0                 3.0            212000.0\n",
       "9                               1494.0                 3.0            242500.0\n",
       "10                              1940.0                 4.0            239999.0\n",
       "11                              2000.0                 3.0            347000.0\n",
       "12                              1890.0                 3.0            329999.0\n",
       "13                              4478.0                 5.0            699900.0\n",
       "14                              1268.0                 3.0            259900.0\n",
       "15                              2300.0                 4.0            449900.0\n",
       "16                              1320.0                 2.0            299900.0\n",
       "17                              1236.0                 3.0            199900.0\n",
       "18                              2609.0                 4.0            499998.0\n",
       "19                              3031.0                 4.0            599000.0\n",
       "20                              1767.0                 3.0            252900.0\n",
       "21                              1888.0                 2.0            255000.0\n",
       "22                              1604.0                 3.0            242900.0\n",
       "23                              1962.0                 4.0            259900.0\n",
       "24                              3890.0                 3.0            573900.0\n",
       "25                              1100.0                 3.0            249900.0\n",
       "26                              1458.0                 3.0            464500.0\n",
       "27                              2526.0                 3.0            469000.0\n",
       "28                              2200.0                 3.0            475000.0\n",
       "29                              2637.0                 3.0            299900.0\n",
       "30                              1839.0                 2.0            349900.0\n",
       "31                              1000.0                 1.0            169900.0\n",
       "32                              2040.0                 4.0            314900.0\n",
       "33                              3137.0                 3.0            579900.0\n",
       "34                              1811.0                 4.0            285900.0\n",
       "35                              1437.0                 3.0            249900.0\n",
       "36                              1239.0                 3.0            229900.0\n",
       "37                              2132.0                 4.0            345000.0\n",
       "38                              4215.0                 4.0            549000.0\n",
       "39                              2162.0                 4.0            287000.0\n",
       "40                              1664.0                 2.0            368500.0\n",
       "41                              2238.0                 3.0            329900.0\n",
       "42                              2567.0                 4.0            314000.0\n",
       "43                              1200.0                 3.0            299000.0\n",
       "44                               852.0                 2.0            179900.0\n",
       "45                              1852.0                 4.0            299900.0\n",
       "46                              1203.0                 3.0            239500.0"
      ]
     },
     "execution_count": 3,
     "metadata": {},
     "output_type": "execute_result"
    }
   ],
   "source": [
    "dataframe"
   ]
  },
  {
   "cell_type": "code",
   "execution_count": 4,
   "id": "476d7206",
   "metadata": {
    "ExecuteTime": {
     "end_time": "2022-04-03T13:44:16.613217Z",
     "start_time": "2022-04-03T13:44:16.610839Z"
    }
   },
   "outputs": [
    {
     "data": {
      "text/plain": [
       "(47, 3)"
      ]
     },
     "execution_count": 4,
     "metadata": {},
     "output_type": "execute_result"
    }
   ],
   "source": [
    "dataframe.shape"
   ]
  },
  {
   "cell_type": "code",
   "execution_count": 5,
   "id": "ee62f7bc",
   "metadata": {
    "ExecuteTime": {
     "end_time": "2022-04-03T13:44:16.918849Z",
     "start_time": "2022-04-03T13:44:16.912976Z"
    }
   },
   "outputs": [
    {
     "data": {
      "text/plain": [
       "Index(['Size of the house (in square feet)', 'Number of bedrooms',\n",
       "       'Price of the house'],\n",
       "      dtype='object')"
      ]
     },
     "execution_count": 5,
     "metadata": {},
     "output_type": "execute_result"
    }
   ],
   "source": [
    "dataframe.columns"
   ]
  },
  {
   "cell_type": "code",
   "execution_count": 6,
   "id": "3a40606d",
   "metadata": {
    "ExecuteTime": {
     "end_time": "2022-04-03T13:44:17.211060Z",
     "start_time": "2022-04-03T13:44:17.189083Z"
    }
   },
   "outputs": [
    {
     "data": {
      "text/html": [
       "<div>\n",
       "<style scoped>\n",
       "    .dataframe tbody tr th:only-of-type {\n",
       "        vertical-align: middle;\n",
       "    }\n",
       "\n",
       "    .dataframe tbody tr th {\n",
       "        vertical-align: top;\n",
       "    }\n",
       "\n",
       "    .dataframe thead th {\n",
       "        text-align: right;\n",
       "    }\n",
       "</style>\n",
       "<table border=\"1\" class=\"dataframe\">\n",
       "  <thead>\n",
       "    <tr style=\"text-align: right;\">\n",
       "      <th></th>\n",
       "      <th>Size of the house (in square feet)</th>\n",
       "      <th>Number of bedrooms</th>\n",
       "      <th>Price of the house</th>\n",
       "    </tr>\n",
       "  </thead>\n",
       "  <tbody>\n",
       "    <tr>\n",
       "      <th>0</th>\n",
       "      <td>2104.0</td>\n",
       "      <td>3.0</td>\n",
       "      <td>399900.0</td>\n",
       "    </tr>\n",
       "    <tr>\n",
       "      <th>1</th>\n",
       "      <td>1600.0</td>\n",
       "      <td>3.0</td>\n",
       "      <td>329900.0</td>\n",
       "    </tr>\n",
       "    <tr>\n",
       "      <th>2</th>\n",
       "      <td>2400.0</td>\n",
       "      <td>3.0</td>\n",
       "      <td>369000.0</td>\n",
       "    </tr>\n",
       "    <tr>\n",
       "      <th>3</th>\n",
       "      <td>1416.0</td>\n",
       "      <td>2.0</td>\n",
       "      <td>232000.0</td>\n",
       "    </tr>\n",
       "    <tr>\n",
       "      <th>4</th>\n",
       "      <td>3000.0</td>\n",
       "      <td>4.0</td>\n",
       "      <td>539900.0</td>\n",
       "    </tr>\n",
       "    <tr>\n",
       "      <th>5</th>\n",
       "      <td>1985.0</td>\n",
       "      <td>4.0</td>\n",
       "      <td>299900.0</td>\n",
       "    </tr>\n",
       "    <tr>\n",
       "      <th>6</th>\n",
       "      <td>1534.0</td>\n",
       "      <td>3.0</td>\n",
       "      <td>314900.0</td>\n",
       "    </tr>\n",
       "    <tr>\n",
       "      <th>7</th>\n",
       "      <td>1427.0</td>\n",
       "      <td>3.0</td>\n",
       "      <td>198999.0</td>\n",
       "    </tr>\n",
       "    <tr>\n",
       "      <th>8</th>\n",
       "      <td>1380.0</td>\n",
       "      <td>3.0</td>\n",
       "      <td>212000.0</td>\n",
       "    </tr>\n",
       "    <tr>\n",
       "      <th>9</th>\n",
       "      <td>1494.0</td>\n",
       "      <td>3.0</td>\n",
       "      <td>242500.0</td>\n",
       "    </tr>\n",
       "  </tbody>\n",
       "</table>\n",
       "</div>"
      ],
      "text/plain": [
       "   Size of the house (in square feet)  Number of bedrooms  Price of the house\n",
       "0                              2104.0                 3.0            399900.0\n",
       "1                              1600.0                 3.0            329900.0\n",
       "2                              2400.0                 3.0            369000.0\n",
       "3                              1416.0                 2.0            232000.0\n",
       "4                              3000.0                 4.0            539900.0\n",
       "5                              1985.0                 4.0            299900.0\n",
       "6                              1534.0                 3.0            314900.0\n",
       "7                              1427.0                 3.0            198999.0\n",
       "8                              1380.0                 3.0            212000.0\n",
       "9                              1494.0                 3.0            242500.0"
      ]
     },
     "execution_count": 6,
     "metadata": {},
     "output_type": "execute_result"
    }
   ],
   "source": [
    "dataframe.head(10)"
   ]
  },
  {
   "cell_type": "markdown",
   "id": "60556247",
   "metadata": {},
   "source": [
    "# PLOT THE DATASET"
   ]
  },
  {
   "cell_type": "code",
   "execution_count": 7,
   "id": "950ddf77",
   "metadata": {
    "ExecuteTime": {
     "end_time": "2022-04-03T13:44:17.853235Z",
     "start_time": "2022-04-03T13:44:17.659513Z"
    }
   },
   "outputs": [
    {
     "data": {
      "image/png": "[encoded data removed]",
      "text/plain": [
       "<Figure size 1296x432 with 2 Axes>"
      ]
     },
     "metadata": {
      "needs_background": "light"
     },
     "output_type": "display_data"
    }
   ],
   "source": [
    "#stiamo creando i subplot\n",
    "#assegno a fig, mi servirà\n",
    "fig = plt.figure(figsize = (18,6)) # dichiaro l'ambiente per disegnare\n",
    "\n",
    "# 121 = 1 riga e 2 colonne e va al 1 \n",
    "ax1 = fig.add_subplot(121)\n",
    "# 121 = 1 riga e 2 colonne e va al 2\n",
    "ax2 = fig.add_subplot(122)\n",
    "\n",
    "\n",
    "ax1.scatter(dataframe['Size of the house (in square feet)'],dataframe['Price of the house'],marker='x', c='red', label='Training Example')\n",
    "ax1.set_xlabel(\"Size(in square feet)\")\n",
    "ax1.set_ylabel(\"Profit of the house\")\n",
    "ax1.legend(loc = 'upper left', ncol=4)\n",
    "\n",
    "ax2.scatter(dataframe['Number of bedrooms'],dataframe['Price of the house'],marker='x', c='red', label='Training Example')\n",
    "ax2.set_xlabel(\"Size(in square feet)\")\n",
    "ax2.set_ylabel(\"Profit of the house\")\n",
    "ax2.legend(loc = 'upper left', ncol=4)\n",
    "\n",
    "plt.show()"
   ]
  },
  {
   "cell_type": "code",
   "execution_count": 8,
   "id": "86d9f1aa",
   "metadata": {
    "ExecuteTime": {
     "end_time": "2022-04-03T13:44:17.871031Z",
     "start_time": "2022-04-03T13:44:17.862668Z"
    }
   },
   "outputs": [
    {
     "data": {
      "text/html": [
       "<div>\n",
       "<style scoped>\n",
       "    .dataframe tbody tr th:only-of-type {\n",
       "        vertical-align: middle;\n",
       "    }\n",
       "\n",
       "    .dataframe tbody tr th {\n",
       "        vertical-align: top;\n",
       "    }\n",
       "\n",
       "    .dataframe thead th {\n",
       "        text-align: right;\n",
       "    }\n",
       "</style>\n",
       "<table border=\"1\" class=\"dataframe\">\n",
       "  <thead>\n",
       "    <tr style=\"text-align: right;\">\n",
       "      <th></th>\n",
       "      <th>Size of the house (in square feet)</th>\n",
       "    </tr>\n",
       "  </thead>\n",
       "  <tbody>\n",
       "    <tr>\n",
       "      <th>0</th>\n",
       "      <td>2104.0</td>\n",
       "    </tr>\n",
       "    <tr>\n",
       "      <th>1</th>\n",
       "      <td>1600.0</td>\n",
       "    </tr>\n",
       "    <tr>\n",
       "      <th>2</th>\n",
       "      <td>2400.0</td>\n",
       "    </tr>\n",
       "    <tr>\n",
       "      <th>3</th>\n",
       "      <td>1416.0</td>\n",
       "    </tr>\n",
       "    <tr>\n",
       "      <th>4</th>\n",
       "      <td>3000.0</td>\n",
       "    </tr>\n",
       "    <tr>\n",
       "      <th>5</th>\n",
       "      <td>1985.0</td>\n",
       "    </tr>\n",
       "    <tr>\n",
       "      <th>6</th>\n",
       "      <td>1534.0</td>\n",
       "    </tr>\n",
       "    <tr>\n",
       "      <th>7</th>\n",
       "      <td>1427.0</td>\n",
       "    </tr>\n",
       "    <tr>\n",
       "      <th>8</th>\n",
       "      <td>1380.0</td>\n",
       "    </tr>\n",
       "    <tr>\n",
       "      <th>9</th>\n",
       "      <td>1494.0</td>\n",
       "    </tr>\n",
       "    <tr>\n",
       "      <th>10</th>\n",
       "      <td>1940.0</td>\n",
       "    </tr>\n",
       "    <tr>\n",
       "      <th>11</th>\n",
       "      <td>2000.0</td>\n",
       "    </tr>\n",
       "    <tr>\n",
       "      <th>12</th>\n",
       "      <td>1890.0</td>\n",
       "    </tr>\n",
       "    <tr>\n",
       "      <th>13</th>\n",
       "      <td>4478.0</td>\n",
       "    </tr>\n",
       "    <tr>\n",
       "      <th>14</th>\n",
       "      <td>1268.0</td>\n",
       "    </tr>\n",
       "    <tr>\n",
       "      <th>15</th>\n",
       "      <td>2300.0</td>\n",
       "    </tr>\n",
       "    <tr>\n",
       "      <th>16</th>\n",
       "      <td>1320.0</td>\n",
       "    </tr>\n",
       "    <tr>\n",
       "      <th>17</th>\n",
       "      <td>1236.0</td>\n",
       "    </tr>\n",
       "    <tr>\n",
       "      <th>18</th>\n",
       "      <td>2609.0</td>\n",
       "    </tr>\n",
       "    <tr>\n",
       "      <th>19</th>\n",
       "      <td>3031.0</td>\n",
       "    </tr>\n",
       "    <tr>\n",
       "      <th>20</th>\n",
       "      <td>1767.0</td>\n",
       "    </tr>\n",
       "    <tr>\n",
       "      <th>21</th>\n",
       "      <td>1888.0</td>\n",
       "    </tr>\n",
       "    <tr>\n",
       "      <th>22</th>\n",
       "      <td>1604.0</td>\n",
       "    </tr>\n",
       "    <tr>\n",
       "      <th>23</th>\n",
       "      <td>1962.0</td>\n",
       "    </tr>\n",
       "    <tr>\n",
       "      <th>24</th>\n",
       "      <td>3890.0</td>\n",
       "    </tr>\n",
       "    <tr>\n",
       "      <th>25</th>\n",
       "      <td>1100.0</td>\n",
       "    </tr>\n",
       "    <tr>\n",
       "      <th>26</th>\n",
       "      <td>1458.0</td>\n",
       "    </tr>\n",
       "    <tr>\n",
       "      <th>27</th>\n",
       "      <td>2526.0</td>\n",
       "    </tr>\n",
       "    <tr>\n",
       "      <th>28</th>\n",
       "      <td>2200.0</td>\n",
       "    </tr>\n",
       "    <tr>\n",
       "      <th>29</th>\n",
       "      <td>2637.0</td>\n",
       "    </tr>\n",
       "    <tr>\n",
       "      <th>30</th>\n",
       "      <td>1839.0</td>\n",
       "    </tr>\n",
       "    <tr>\n",
       "      <th>31</th>\n",
       "      <td>1000.0</td>\n",
       "    </tr>\n",
       "    <tr>\n",
       "      <th>32</th>\n",
       "      <td>2040.0</td>\n",
       "    </tr>\n",
       "    <tr>\n",
       "      <th>33</th>\n",
       "      <td>3137.0</td>\n",
       "    </tr>\n",
       "    <tr>\n",
       "      <th>34</th>\n",
       "      <td>1811.0</td>\n",
       "    </tr>\n",
       "    <tr>\n",
       "      <th>35</th>\n",
       "      <td>1437.0</td>\n",
       "    </tr>\n",
       "    <tr>\n",
       "      <th>36</th>\n",
       "      <td>1239.0</td>\n",
       "    </tr>\n",
       "    <tr>\n",
       "      <th>37</th>\n",
       "      <td>2132.0</td>\n",
       "    </tr>\n",
       "    <tr>\n",
       "      <th>38</th>\n",
       "      <td>4215.0</td>\n",
       "    </tr>\n",
       "    <tr>\n",
       "      <th>39</th>\n",
       "      <td>2162.0</td>\n",
       "    </tr>\n",
       "    <tr>\n",
       "      <th>40</th>\n",
       "      <td>1664.0</td>\n",
       "    </tr>\n",
       "    <tr>\n",
       "      <th>41</th>\n",
       "      <td>2238.0</td>\n",
       "    </tr>\n",
       "    <tr>\n",
       "      <th>42</th>\n",
       "      <td>2567.0</td>\n",
       "    </tr>\n",
       "    <tr>\n",
       "      <th>43</th>\n",
       "      <td>1200.0</td>\n",
       "    </tr>\n",
       "    <tr>\n",
       "      <th>44</th>\n",
       "      <td>852.0</td>\n",
       "    </tr>\n",
       "    <tr>\n",
       "      <th>45</th>\n",
       "      <td>1852.0</td>\n",
       "    </tr>\n",
       "    <tr>\n",
       "      <th>46</th>\n",
       "      <td>1203.0</td>\n",
       "    </tr>\n",
       "  </tbody>\n",
       "</table>\n",
       "</div>"
      ],
      "text/plain": [
       "    Size of the house (in square feet)\n",
       "0                               2104.0\n",
       "1                               1600.0\n",
       "2                               2400.0\n",
       "3                               1416.0\n",
       "4                               3000.0\n",
       "5                               1985.0\n",
       "6                               1534.0\n",
       "7                               1427.0\n",
       "8                               1380.0\n",
       "9                               1494.0\n",
       "10                              1940.0\n",
       "11                              2000.0\n",
       "12                              1890.0\n",
       "13                              4478.0\n",
       "14                              1268.0\n",
       "15                              2300.0\n",
       "16                              1320.0\n",
       "17                              1236.0\n",
       "18                              2609.0\n",
       "19                              3031.0\n",
       "20                              1767.0\n",
       "21                              1888.0\n",
       "22                              1604.0\n",
       "23                              1962.0\n",
       "24                              3890.0\n",
       "25                              1100.0\n",
       "26                              1458.0\n",
       "27                              2526.0\n",
       "28                              2200.0\n",
       "29                              2637.0\n",
       "30                              1839.0\n",
       "31                              1000.0\n",
       "32                              2040.0\n",
       "33                              3137.0\n",
       "34                              1811.0\n",
       "35                              1437.0\n",
       "36                              1239.0\n",
       "37                              2132.0\n",
       "38                              4215.0\n",
       "39                              2162.0\n",
       "40                              1664.0\n",
       "41                              2238.0\n",
       "42                              2567.0\n",
       "43                              1200.0\n",
       "44                               852.0\n",
       "45                              1852.0\n",
       "46                              1203.0"
      ]
     },
     "execution_count": 8,
     "metadata": {},
     "output_type": "execute_result"
    }
   ],
   "source": [
    "#loc\n",
    "#1° parametro = numero delle righe\n",
    "#2° parametro = numero delle colonne\n",
    "dataframe.loc[:,['Size of the house (in square feet)']]"
   ]
  },
  {
   "cell_type": "code",
   "execution_count": 9,
   "id": "909f2a4a",
   "metadata": {
    "ExecuteTime": {
     "end_time": "2022-04-03T13:44:17.965801Z",
     "start_time": "2022-04-03T13:44:17.956339Z"
    }
   },
   "outputs": [
    {
     "data": {
      "text/html": [
       "<div>\n",
       "<style scoped>\n",
       "    .dataframe tbody tr th:only-of-type {\n",
       "        vertical-align: middle;\n",
       "    }\n",
       "\n",
       "    .dataframe tbody tr th {\n",
       "        vertical-align: top;\n",
       "    }\n",
       "\n",
       "    .dataframe thead th {\n",
       "        text-align: right;\n",
       "    }\n",
       "</style>\n",
       "<table border=\"1\" class=\"dataframe\">\n",
       "  <thead>\n",
       "    <tr style=\"text-align: right;\">\n",
       "      <th></th>\n",
       "      <th>Size of the house (in square feet)</th>\n",
       "      <th>Number of bedrooms</th>\n",
       "    </tr>\n",
       "  </thead>\n",
       "  <tbody>\n",
       "    <tr>\n",
       "      <th>0</th>\n",
       "      <td>2104.0</td>\n",
       "      <td>3.0</td>\n",
       "    </tr>\n",
       "    <tr>\n",
       "      <th>1</th>\n",
       "      <td>1600.0</td>\n",
       "      <td>3.0</td>\n",
       "    </tr>\n",
       "    <tr>\n",
       "      <th>2</th>\n",
       "      <td>2400.0</td>\n",
       "      <td>3.0</td>\n",
       "    </tr>\n",
       "    <tr>\n",
       "      <th>3</th>\n",
       "      <td>1416.0</td>\n",
       "      <td>2.0</td>\n",
       "    </tr>\n",
       "    <tr>\n",
       "      <th>4</th>\n",
       "      <td>3000.0</td>\n",
       "      <td>4.0</td>\n",
       "    </tr>\n",
       "    <tr>\n",
       "      <th>5</th>\n",
       "      <td>1985.0</td>\n",
       "      <td>4.0</td>\n",
       "    </tr>\n",
       "    <tr>\n",
       "      <th>6</th>\n",
       "      <td>1534.0</td>\n",
       "      <td>3.0</td>\n",
       "    </tr>\n",
       "    <tr>\n",
       "      <th>7</th>\n",
       "      <td>1427.0</td>\n",
       "      <td>3.0</td>\n",
       "    </tr>\n",
       "    <tr>\n",
       "      <th>8</th>\n",
       "      <td>1380.0</td>\n",
       "      <td>3.0</td>\n",
       "    </tr>\n",
       "    <tr>\n",
       "      <th>9</th>\n",
       "      <td>1494.0</td>\n",
       "      <td>3.0</td>\n",
       "    </tr>\n",
       "    <tr>\n",
       "      <th>10</th>\n",
       "      <td>1940.0</td>\n",
       "      <td>4.0</td>\n",
       "    </tr>\n",
       "    <tr>\n",
       "      <th>11</th>\n",
       "      <td>2000.0</td>\n",
       "      <td>3.0</td>\n",
       "    </tr>\n",
       "    <tr>\n",
       "      <th>12</th>\n",
       "      <td>1890.0</td>\n",
       "      <td>3.0</td>\n",
       "    </tr>\n",
       "    <tr>\n",
       "      <th>13</th>\n",
       "      <td>4478.0</td>\n",
       "      <td>5.0</td>\n",
       "    </tr>\n",
       "    <tr>\n",
       "      <th>14</th>\n",
       "      <td>1268.0</td>\n",
       "      <td>3.0</td>\n",
       "    </tr>\n",
       "    <tr>\n",
       "      <th>15</th>\n",
       "      <td>2300.0</td>\n",
       "      <td>4.0</td>\n",
       "    </tr>\n",
       "    <tr>\n",
       "      <th>16</th>\n",
       "      <td>1320.0</td>\n",
       "      <td>2.0</td>\n",
       "    </tr>\n",
       "    <tr>\n",
       "      <th>17</th>\n",
       "      <td>1236.0</td>\n",
       "      <td>3.0</td>\n",
       "    </tr>\n",
       "    <tr>\n",
       "      <th>18</th>\n",
       "      <td>2609.0</td>\n",
       "      <td>4.0</td>\n",
       "    </tr>\n",
       "    <tr>\n",
       "      <th>19</th>\n",
       "      <td>3031.0</td>\n",
       "      <td>4.0</td>\n",
       "    </tr>\n",
       "    <tr>\n",
       "      <th>20</th>\n",
       "      <td>1767.0</td>\n",
       "      <td>3.0</td>\n",
       "    </tr>\n",
       "    <tr>\n",
       "      <th>21</th>\n",
       "      <td>1888.0</td>\n",
       "      <td>2.0</td>\n",
       "    </tr>\n",
       "    <tr>\n",
       "      <th>22</th>\n",
       "      <td>1604.0</td>\n",
       "      <td>3.0</td>\n",
       "    </tr>\n",
       "    <tr>\n",
       "      <th>23</th>\n",
       "      <td>1962.0</td>\n",
       "      <td>4.0</td>\n",
       "    </tr>\n",
       "    <tr>\n",
       "      <th>24</th>\n",
       "      <td>3890.0</td>\n",
       "      <td>3.0</td>\n",
       "    </tr>\n",
       "    <tr>\n",
       "      <th>25</th>\n",
       "      <td>1100.0</td>\n",
       "      <td>3.0</td>\n",
       "    </tr>\n",
       "    <tr>\n",
       "      <th>26</th>\n",
       "      <td>1458.0</td>\n",
       "      <td>3.0</td>\n",
       "    </tr>\n",
       "    <tr>\n",
       "      <th>27</th>\n",
       "      <td>2526.0</td>\n",
       "      <td>3.0</td>\n",
       "    </tr>\n",
       "    <tr>\n",
       "      <th>28</th>\n",
       "      <td>2200.0</td>\n",
       "      <td>3.0</td>\n",
       "    </tr>\n",
       "    <tr>\n",
       "      <th>29</th>\n",
       "      <td>2637.0</td>\n",
       "      <td>3.0</td>\n",
       "    </tr>\n",
       "    <tr>\n",
       "      <th>30</th>\n",
       "      <td>1839.0</td>\n",
       "      <td>2.0</td>\n",
       "    </tr>\n",
       "    <tr>\n",
       "      <th>31</th>\n",
       "      <td>1000.0</td>\n",
       "      <td>1.0</td>\n",
       "    </tr>\n",
       "    <tr>\n",
       "      <th>32</th>\n",
       "      <td>2040.0</td>\n",
       "      <td>4.0</td>\n",
       "    </tr>\n",
       "    <tr>\n",
       "      <th>33</th>\n",
       "      <td>3137.0</td>\n",
       "      <td>3.0</td>\n",
       "    </tr>\n",
       "    <tr>\n",
       "      <th>34</th>\n",
       "      <td>1811.0</td>\n",
       "      <td>4.0</td>\n",
       "    </tr>\n",
       "    <tr>\n",
       "      <th>35</th>\n",
       "      <td>1437.0</td>\n",
       "      <td>3.0</td>\n",
       "    </tr>\n",
       "    <tr>\n",
       "      <th>36</th>\n",
       "      <td>1239.0</td>\n",
       "      <td>3.0</td>\n",
       "    </tr>\n",
       "    <tr>\n",
       "      <th>37</th>\n",
       "      <td>2132.0</td>\n",
       "      <td>4.0</td>\n",
       "    </tr>\n",
       "    <tr>\n",
       "      <th>38</th>\n",
       "      <td>4215.0</td>\n",
       "      <td>4.0</td>\n",
       "    </tr>\n",
       "    <tr>\n",
       "      <th>39</th>\n",
       "      <td>2162.0</td>\n",
       "      <td>4.0</td>\n",
       "    </tr>\n",
       "    <tr>\n",
       "      <th>40</th>\n",
       "      <td>1664.0</td>\n",
       "      <td>2.0</td>\n",
       "    </tr>\n",
       "    <tr>\n",
       "      <th>41</th>\n",
       "      <td>2238.0</td>\n",
       "      <td>3.0</td>\n",
       "    </tr>\n",
       "    <tr>\n",
       "      <th>42</th>\n",
       "      <td>2567.0</td>\n",
       "      <td>4.0</td>\n",
       "    </tr>\n",
       "    <tr>\n",
       "      <th>43</th>\n",
       "      <td>1200.0</td>\n",
       "      <td>3.0</td>\n",
       "    </tr>\n",
       "    <tr>\n",
       "      <th>44</th>\n",
       "      <td>852.0</td>\n",
       "      <td>2.0</td>\n",
       "    </tr>\n",
       "    <tr>\n",
       "      <th>45</th>\n",
       "      <td>1852.0</td>\n",
       "      <td>4.0</td>\n",
       "    </tr>\n",
       "    <tr>\n",
       "      <th>46</th>\n",
       "      <td>1203.0</td>\n",
       "      <td>3.0</td>\n",
       "    </tr>\n",
       "  </tbody>\n",
       "</table>\n",
       "</div>"
      ],
      "text/plain": [
       "    Size of the house (in square feet)  Number of bedrooms\n",
       "0                               2104.0                 3.0\n",
       "1                               1600.0                 3.0\n",
       "2                               2400.0                 3.0\n",
       "3                               1416.0                 2.0\n",
       "4                               3000.0                 4.0\n",
       "5                               1985.0                 4.0\n",
       "6                               1534.0                 3.0\n",
       "7                               1427.0                 3.0\n",
       "8                               1380.0                 3.0\n",
       "9                               1494.0                 3.0\n",
       "10                              1940.0                 4.0\n",
       "11                              2000.0                 3.0\n",
       "12                              1890.0                 3.0\n",
       "13                              4478.0                 5.0\n",
       "14                              1268.0                 3.0\n",
       "15                              2300.0                 4.0\n",
       "16                              1320.0                 2.0\n",
       "17                              1236.0                 3.0\n",
       "18                              2609.0                 4.0\n",
       "19                              3031.0                 4.0\n",
       "20                              1767.0                 3.0\n",
       "21                              1888.0                 2.0\n",
       "22                              1604.0                 3.0\n",
       "23                              1962.0                 4.0\n",
       "24                              3890.0                 3.0\n",
       "25                              1100.0                 3.0\n",
       "26                              1458.0                 3.0\n",
       "27                              2526.0                 3.0\n",
       "28                              2200.0                 3.0\n",
       "29                              2637.0                 3.0\n",
       "30                              1839.0                 2.0\n",
       "31                              1000.0                 1.0\n",
       "32                              2040.0                 4.0\n",
       "33                              3137.0                 3.0\n",
       "34                              1811.0                 4.0\n",
       "35                              1437.0                 3.0\n",
       "36                              1239.0                 3.0\n",
       "37                              2132.0                 4.0\n",
       "38                              4215.0                 4.0\n",
       "39                              2162.0                 4.0\n",
       "40                              1664.0                 2.0\n",
       "41                              2238.0                 3.0\n",
       "42                              2567.0                 4.0\n",
       "43                              1200.0                 3.0\n",
       "44                               852.0                 2.0\n",
       "45                              1852.0                 4.0\n",
       "46                              1203.0                 3.0"
      ]
     },
     "execution_count": 9,
     "metadata": {},
     "output_type": "execute_result"
    }
   ],
   "source": [
    "#Iloc\n",
    "#1° parametro = numero delle righe\n",
    "#2° parametro = numero delle colonne\n",
    "dataframe.iloc[:,[0,1]]"
   ]
  },
  {
   "cell_type": "code",
   "execution_count": 10,
   "id": "7a234dce",
   "metadata": {
    "ExecuteTime": {
     "end_time": "2022-04-03T13:44:18.300703Z",
     "start_time": "2022-04-03T13:44:18.289657Z"
    }
   },
   "outputs": [
    {
     "name": "stdout",
     "output_type": "stream",
     "text": [
      "(47, 2)\n",
      "(47, 1)\n"
     ]
    }
   ],
   "source": [
    "# Supervised Learning: bisogna dividere input dall'ouput\n",
    "\n",
    "X = dataframe.iloc[:,[0,1]].values\n",
    "Y = dataframe.iloc[:,[-1]].values\n",
    "print(X.shape)\n",
    "print(Y.shape)"
   ]
  },
  {
   "cell_type": "markdown",
   "id": "11d0ebfd",
   "metadata": {},
   "source": [
    "# FEATURE SCALING"
   ]
  },
  {
   "cell_type": "markdown",
   "id": "f8c4d9eb",
   "metadata": {},
   "source": [
    "$$\\large z_{j}^{(i)} = \\frac{x_{j}^{(i)} - \\mu_{j}}{\\sigma_{j}} $$\n",
    "$$\\large z_{j}^{(i)} = \\frac{x_{j}^{(i)} - \\mu_{j}}{max_{j}-min_{j}} $$"
   ]
  },
  {
   "cell_type": "code",
   "execution_count": 11,
   "id": "b0bdc30d",
   "metadata": {
    "ExecuteTime": {
     "end_time": "2022-04-03T13:44:19.211049Z",
     "start_time": "2022-04-03T13:44:19.203129Z"
    }
   },
   "outputs": [],
   "source": [
    "def featureScaling(X):\n",
    "    \n",
    "    Z = np.copy(X)\n",
    "    \n",
    "    mu = np.mean(Z, axis = 0) #axis = 0 lo fa per le colonne\n",
    "    std = np.std(Z, axis = 0)\n",
    "    \n",
    "    Z = (Z - mu)/std\n",
    " \n",
    "    return Z"
   ]
  },
  {
   "cell_type": "code",
   "execution_count": 12,
   "id": "8779bb01",
   "metadata": {
    "ExecuteTime": {
     "end_time": "2022-04-03T13:44:19.818420Z",
     "start_time": "2022-04-03T13:44:19.813445Z"
    }
   },
   "outputs": [],
   "source": [
    "Z = featureScaling(X)"
   ]
  },
  {
   "cell_type": "code",
   "execution_count": 13,
   "id": "7ee9809e",
   "metadata": {
    "ExecuteTime": {
     "end_time": "2022-04-03T13:44:20.198529Z",
     "start_time": "2022-04-03T13:44:20.193011Z"
    }
   },
   "outputs": [],
   "source": [
    "#aggiungo la colonna di 1\n",
    "X_scaled = np.c_[np.ones(Z.shape[0]), Z]\n"
   ]
  },
  {
   "cell_type": "code",
   "execution_count": 17,
   "id": "a8314b95",
   "metadata": {
    "ExecuteTime": {
     "end_time": "2022-04-03T13:46:10.449363Z",
     "start_time": "2022-04-03T13:46:10.440804Z"
    }
   },
   "outputs": [
    {
     "data": {
      "text/plain": [
       "array([[399900.],\n",
       "       [329900.],\n",
       "       [369000.],\n",
       "       [232000.],\n",
       "       [539900.],\n",
       "       [299900.],\n",
       "       [314900.],\n",
       "       [198999.],\n",
       "       [212000.],\n",
       "       [242500.],\n",
       "       [239999.],\n",
       "       [347000.],\n",
       "       [329999.],\n",
       "       [699900.],\n",
       "       [259900.],\n",
       "       [449900.],\n",
       "       [299900.],\n",
       "       [199900.],\n",
       "       [499998.],\n",
       "       [599000.],\n",
       "       [252900.],\n",
       "       [255000.],\n",
       "       [242900.],\n",
       "       [259900.],\n",
       "       [573900.],\n",
       "       [249900.],\n",
       "       [464500.],\n",
       "       [469000.],\n",
       "       [475000.],\n",
       "       [299900.],\n",
       "       [349900.],\n",
       "       [169900.],\n",
       "       [314900.],\n",
       "       [579900.],\n",
       "       [285900.],\n",
       "       [249900.],\n",
       "       [229900.],\n",
       "       [345000.],\n",
       "       [549000.],\n",
       "       [287000.],\n",
       "       [368500.],\n",
       "       [329900.],\n",
       "       [314000.],\n",
       "       [299000.],\n",
       "       [179900.],\n",
       "       [299900.],\n",
       "       [239500.]], dtype=float32)"
      ]
     },
     "execution_count": 17,
     "metadata": {},
     "output_type": "execute_result"
    }
   ],
   "source": [
    "Y"
   ]
  },
  {
   "cell_type": "code",
   "execution_count": 14,
   "id": "e31ca230",
   "metadata": {
    "ExecuteTime": {
     "end_time": "2022-04-03T13:44:20.953323Z",
     "start_time": "2022-04-03T13:44:20.944920Z"
    }
   },
   "outputs": [],
   "source": [
    "def costLoopBased(x,y, theta= np.zeros((X_scaled.shape[1],1))):\n",
    "    m = x.shape[0]\n",
    "    n = x.shape[1]\n",
    "    J = 0\n",
    "    \n",
    "    elapsed_time = 0\n",
    "    elapsed_time -= time.time()\n",
    "    for i in range(m): # iterate on over all the input example\n",
    "        h = 0\n",
    "        for j in range (n): # iterate over each input feature\n",
    "            \n",
    "            h += theta[j]*x[i][j]\n",
    "            \n",
    "        J += (h - y[i])**2 ##individual loss\n",
    "    J = J/(2*m),3\n",
    "    elapsed_time += time.time()\n",
    "    elapsed_time *= 1000 # porto i secondi in millisecondi\n",
    "    \n",
    "    return np.round(J[0],3), np.round(elapsed_time,3)"
   ]
  },
  {
   "cell_type": "code",
   "execution_count": 28,
   "id": "038bc1b6",
   "metadata": {
    "ExecuteTime": {
     "end_time": "2022-03-21T14:21:01.889747Z",
     "start_time": "2022-03-21T14:21:01.879303Z"
    }
   },
   "outputs": [
    {
     "name": "stdout",
     "output_type": "stream",
     "text": [
      "[6.55915481e+10]\n"
     ]
    }
   ],
   "source": [
    "cost_lb, etime_lb= costLoopBased(X_scaled,Y)\n",
    "print(cost_lb)"
   ]
  },
  {
   "cell_type": "code",
   "execution_count": 29,
   "id": "5d08aeba",
   "metadata": {
    "ExecuteTime": {
     "end_time": "2022-03-21T14:21:02.191814Z",
     "start_time": "2022-03-21T14:21:02.182628Z"
    }
   },
   "outputs": [],
   "source": [
    "def costVectorial(x,y, theta= np.zeros((X_scaled.shape[1],1))):\n",
    "    m = x.shape[0]\n",
    "\n",
    "    J = 0\n",
    "    \n",
    "    elapsed_time = 0\n",
    "    elapsed_time -= time.time()\n",
    "\n",
    "    J = (x.dot(theta) - y).T.dot((x.dot(theta) - y))\n",
    "    J = J/(2*m)\n",
    "\n",
    "    elapsed_time += time.time()\n",
    "    elapsed_time *= 1000 # porto i secondi in millisecondi\n",
    "    \n",
    "    return np.round(J[0],3), np.round(elapsed_time,3)"
   ]
  },
  {
   "cell_type": "code",
   "execution_count": 30,
   "id": "8729c402",
   "metadata": {
    "ExecuteTime": {
     "end_time": "2022-03-21T14:21:02.449558Z",
     "start_time": "2022-03-21T14:21:02.441709Z"
    }
   },
   "outputs": [
    {
     "name": "stdout",
     "output_type": "stream",
     "text": [
      "[6.55915481e+10]\n"
     ]
    }
   ],
   "source": [
    "cost_v, etime_v= costVectorial(X_scaled,Y)\n",
    "print(cost_v)"
   ]
  },
  {
   "cell_type": "code",
   "execution_count": 31,
   "id": "1fc68869",
   "metadata": {
    "ExecuteTime": {
     "end_time": "2022-03-21T14:21:02.679946Z",
     "start_time": "2022-03-21T14:21:02.662150Z"
    }
   },
   "outputs": [],
   "source": [
    "def gradientDescentLoop(x, y, theta = np.zeros((X_scaled.shape[1],1)), alpha = 0.003, max_iters = 20000, early = False, epsilon = 0.00001):\n",
    "    \n",
    "    m = x.shape[0]\n",
    "    n = x.shape[1]\n",
    "    J_history = np.zeros((max_iters,1))\n",
    "    theta_history = []\n",
    "\n",
    "    theta_gd = np.copy(theta)\n",
    "    \n",
    "    elapsed_time = 0\n",
    "    elapsed_time -= time.time()\n",
    "\n",
    "    for iter in range (max_iters):\n",
    "        J_history[iter],_ = costLoopBased(x,y, theta_gd)\n",
    "        theta_history.append(np.copy(theta_gd))\n",
    "        h = np.zeros((m,1))\n",
    "        partial = np.zeros((n,1))\n",
    "        \n",
    "        for i in range(m):\n",
    "            for j in range(n):\n",
    "                h[i] += theta_gd[j]*x[i][j]\n",
    "            \n",
    "            for j in range(n):\n",
    "                partial[j] += (h[i] - y[i])*x[i][j]\n",
    "                \n",
    "        #simultaneously update each parameter        \n",
    "        for j in range(n):\n",
    "            theta_gd[j] = theta_gd[j] - (alpha/m)*partial[j]\n",
    "        if(early):\n",
    "            if(iter != 0):\n",
    "                if(np.abs(J_history[iter] - J_history[iter-1]) < epsilon):\n",
    "                        theta_history.append(theta_gd)\n",
    "                        elapsed_time += time.time()\n",
    "                        elapsed_time *= 1000 # porto i secondi in millisecondi\n",
    "                        return theta_gd, J_history[J_history != 0], round(elapsed_time,3), theta_history\n",
    "    \n",
    "    theta_history.append(np.copy(theta_gd))\n",
    "    elapsed_time += time.time()\n",
    "    elapsed_time *= 1000 # porto i secondi in millisecondi\n",
    "\n",
    "    return theta_gd, J_history, round(elapsed_time,3), theta_history\n",
    "    "
   ]
  },
  {
   "cell_type": "code",
   "execution_count": 32,
   "id": "e55d5948",
   "metadata": {
    "ExecuteTime": {
     "end_time": "2022-03-21T14:21:38.972424Z",
     "start_time": "2022-03-21T14:21:02.864035Z"
    }
   },
   "outputs": [],
   "source": [
    "theta_gd, cost_history, gd_elapsed_time, theta_history= gradientDescentLoop(X_scaled,Y)"
   ]
  },
  {
   "cell_type": "code",
   "execution_count": 33,
   "id": "5059b965",
   "metadata": {
    "ExecuteTime": {
     "end_time": "2022-03-21T14:21:38.977480Z",
     "start_time": "2022-03-21T14:21:38.973660Z"
    }
   },
   "outputs": [],
   "source": [
    "def gradientDescentVectorized(x, y, theta = np.zeros((X.shape[1],1)), alpha = 0.001, max_iters = 200000, early = False, epsilon = 0.00001):\n",
    "    \n",
    "    m = x.shape[0]\n",
    "\n",
    "    J_history = np.zeros((max_iters,1))\n",
    "    theta_history = []\n",
    "\n",
    "    theta_gd = np.copy(theta)\n",
    "    \n",
    "    elapsed_time = 0\n",
    "    elapsed_time -= time.time()\n",
    "\n",
    "    for iter in range (max_iters):\n",
    "        J_history[iter],_ = costVectorial(x,y, theta = theta_gd)\n",
    "        \n",
    "        theta_gd = theta_gd - (alpha/m) *x.T.dot(x.dot(theta_gd) - y)\n",
    "        theta_history.append(np.copy(theta_gd))        \n",
    "        \n",
    "        if(early):\n",
    "            if(iter != 0):\n",
    "                if(np.abs(J_history[iter] - J_history[iter-1]) < epsilon):\n",
    "                        theta_history.append(theta_gd)\n",
    "                        elapsed_time += time.time()\n",
    "                        elapsed_time *= 1000 # porto i secondi in millisecondi\n",
    "                        return theta_gd, J_history[J_history != 0], round(elapsed_time,3), theta_history\n",
    "    \n",
    "    theta_history.append(np.copy(theta_gd))\n",
    "    elapsed_time += time.time()\n",
    "    elapsed_time *= 1000 # porto i secondi in millisecondi\n",
    "\n",
    "    return theta_gd, J_history, round(elapsed_time,3), theta_history\n",
    "    "
   ]
  },
  {
   "cell_type": "code",
   "execution_count": 93,
   "id": "ef47d0ce",
   "metadata": {
    "ExecuteTime": {
     "end_time": "2022-03-21T14:38:14.915994Z",
     "start_time": "2022-03-21T14:38:14.107029Z"
    }
   },
   "outputs": [],
   "source": [
    "#theta_gd, cost_history, gd_elapsed_time, theta_history= gradientDescentLoop(x,y,theta = np.zeros((x.shape[1], 1)))\n",
    "theta_gd_vectorized, cost_history_vectorized, gd_elapsed_time_vectorized, theta_history_vectorized = gradientDescentVectorized(X_scaled, Y, theta = np.zeros((X_scaled.shape[1], 1)), alpha = 0.001 , max_iters = 30000, early=True, epsilon=0.0001)\n",
    "\n"
   ]
  },
  {
   "cell_type": "code",
   "execution_count": 94,
   "id": "61e21a71",
   "metadata": {
    "ExecuteTime": {
     "end_time": "2022-03-21T14:38:14.919390Z",
     "start_time": "2022-03-21T14:38:14.917084Z"
    }
   },
   "outputs": [
    {
     "data": {
      "text/plain": [
       "array([6.55915481e+10, 6.54615565e+10, 6.53318377e+10, ...,\n",
       "       2.04328004e+09, 2.04328004e+09, 2.04328004e+09])"
      ]
     },
     "execution_count": 94,
     "metadata": {},
     "output_type": "execute_result"
    }
   ],
   "source": [
    "cost_history_vectorized"
   ]
  },
  {
   "cell_type": "code",
   "execution_count": 95,
   "id": "763be5a0",
   "metadata": {
    "ExecuteTime": {
     "end_time": "2022-03-21T14:38:14.922606Z",
     "start_time": "2022-03-21T14:38:14.920575Z"
    }
   },
   "outputs": [
    {
     "data": {
      "text/plain": [
       "array([[340412.66783644],\n",
       "       [109446.2238118 ],\n",
       "       [ -6576.78043259]])"
      ]
     },
     "execution_count": 95,
     "metadata": {},
     "output_type": "execute_result"
    }
   ],
   "source": [
    "theta_gd_vectorized"
   ]
  },
  {
   "cell_type": "markdown",
   "id": "fa420799",
   "metadata": {},
   "source": [
    "# PLOT THE COST"
   ]
  },
  {
   "cell_type": "code",
   "execution_count": 96,
   "id": "a1e8cc04",
   "metadata": {
    "ExecuteTime": {
     "end_time": "2022-03-21T14:38:15.348797Z",
     "start_time": "2022-03-21T14:38:15.221937Z"
    }
   },
   "outputs": [
    {
     "data": {
      "image/png": "[encoded data removed]",
      "text/plain": [
       "<Figure size 864x576 with 1 Axes>"
      ]
     },
     "metadata": {
      "needs_background": "light"
     },
     "output_type": "display_data"
    }
   ],
   "source": [
    "plt.figure(figsize = (12,8))\n",
    "plt.plot(np.arange(cost_history_vectorized.shape[0])+1, cost_history_vectorized, label = r'$J({\\theta})$');\n",
    "plt.xlabel(\"# iterations\")\n",
    "plt.ylabel(r'$J({\\theta})$')\n",
    "plt.show()"
   ]
  },
  {
   "cell_type": "markdown",
   "id": "81cbe7d7",
   "metadata": {},
   "source": [
    "# Countour Plot wrt $\\theta_{1}$ and $\\theta_{2}$($\\theta_{0}$ = 0)"
   ]
  },
  {
   "cell_type": "code",
   "execution_count": 103,
   "id": "00bc7a65",
   "metadata": {
    "ExecuteTime": {
     "end_time": "2022-03-21T15:02:12.848432Z",
     "start_time": "2022-03-21T15:02:12.843416Z"
    }
   },
   "outputs": [],
   "source": [
    "B1 = np.linspace(0,300, 100)\n",
    "B2 = np.linspace(-50000,100000, 100)\n",
    "# ottengo coppie (x,y)\n",
    "xx,yy = np.meshgrid(B1,B2, indexing = 'xy')"
   ]
  },
  {
   "cell_type": "code",
   "execution_count": 108,
   "id": "6f76b3ce",
   "metadata": {
    "ExecuteTime": {
     "end_time": "2022-03-21T15:05:57.542088Z",
     "start_time": "2022-03-21T15:05:57.238421Z"
    }
   },
   "outputs": [],
   "source": [
    "cost = np.zeros((B1.shape[0], B2.shape[0]))\n",
    "\n",
    "#ndenumerate itera sulle multidimensioni\n",
    "for (i,j), v in np.ndenumerate(cost):  #i è la coppia di coordinate e j è il valore di z\n",
    "    cost[i,j],_ = costVectorial(X,Y, theta = [[xx[i,j]], [yy[i,j]]])"
   ]
  },
  {
   "cell_type": "code",
   "execution_count": 152,
   "id": "16b01b27",
   "metadata": {
    "ExecuteTime": {
     "end_time": "2022-03-21T15:19:58.512694Z",
     "start_time": "2022-03-21T15:19:58.506058Z"
    }
   },
   "outputs": [],
   "source": [
    "BS1 = np.linspace(-1000000,1000000, 100)\n",
    "BS2 = np.linspace(-1000000,1000000, 100)\n",
    "# ottengo coppie (x,y)\n",
    "xxs,yys = np.meshgrid(BS1,BS2, indexing = 'xy')"
   ]
  },
  {
   "cell_type": "code",
   "execution_count": 153,
   "id": "986d5ea2",
   "metadata": {
    "ExecuteTime": {
     "end_time": "2022-03-21T15:19:58.987590Z",
     "start_time": "2022-03-21T15:19:58.680698Z"
    }
   },
   "outputs": [],
   "source": [
    "cost_scaled = np.zeros((BS1.shape[0], BS2.shape[0]))\n",
    "\n",
    "#ndenumerate itera sulle multidimensioni\n",
    "for (i,j), v in np.ndenumerate(cost_scaled):  #i è la coppia di coordinate e j è il valore di z\n",
    "    cost_scaled[i,j],_ = costVectorial(Z,Y, theta = [[xxs[i,j]], [yys[i,j]]])"
   ]
  },
  {
   "cell_type": "code",
   "execution_count": 154,
   "id": "23edf57e",
   "metadata": {
    "ExecuteTime": {
     "end_time": "2022-03-21T15:20:02.641057Z",
     "start_time": "2022-03-21T15:19:58.988818Z"
    }
   },
   "outputs": [
    {
     "data": {
      "image/png": "[encoded data removed]",
      "text/plain": [
       "<Figure size 1152x432 with 2 Axes>"
      ]
     },
     "metadata": {
      "needs_background": "light"
     },
     "output_type": "display_data"
    }
   ],
   "source": [
    "fig = plt.figure(figsize = (16,6))\n",
    "\n",
    "ax1 = fig.add_subplot(121)\n",
    "ax1.contour(xx,yy,cost, np.logspace(-100, 300, 3000), cmap=plt.cm.jet)\n",
    "ax1.set_xlabel(r'$\\theta_1$', fontsize ='18')\n",
    "ax1.set_ylabel(r'$\\theta_2$', fontsize ='18')\n",
    "ax1.set_title(\"Contours Plot(without feature scaling)\")\n",
    "\n",
    "ax2 = fig.add_subplot(122)\n",
    "ax2.contour(xxs,yys,cost_scaled, np.logspace(-100, 300, 3000), cmap=plt.cm.jet)\n",
    "ax2.set_xlabel(r'$\\theta_1$', fontsize ='18')\n",
    "ax2.set_ylabel(r'$\\theta_2$', fontsize ='18')\n",
    "ax2.set_title(\"Contours Plot(without feature scaling)\")\n",
    "ax2.set_title(\"Contours Plot(with feature scaling)\")\n",
    "\n",
    "plt.show()"
   ]
  },
  {
   "cell_type": "code",
   "execution_count": null,
   "id": "6856cdbe",
   "metadata": {},
   "outputs": [],
   "source": []
  },
  {
   "cell_type": "code",
   "execution_count": null,
   "id": "5397a6d1",
   "metadata": {},
   "outputs": [],
   "source": []
  }
 ],
 "metadata": {
  "kernelspec": {
   "display_name": "Python 3",
   "language": "python",
   "name": "python3"
  },
  "language_info": {
   "codemirror_mode": {
    "name": "ipython",
    "version": 3
   },
   "file_extension": ".py",
   "mimetype": "text/x-python",
   "name": "python",
   "nbconvert_exporter": "python",
   "pygments_lexer": "ipython3",
   "version": "3.9.5"
  },
  "latex_envs": {
   "LaTeX_envs_menu_present": true,
   "autoclose": false,
   "autocomplete": true,
   "bibliofile": "biblio.bib",
   "cite_by": "apalike",
   "current_citInitial": 1,
   "eqLabelWithNumbers": true,
   "eqNumInitial": 1,
   "hotkeys": {
    "equation": "Ctrl-E",
    "itemize": "Ctrl-I"
   },
   "labels_anchors": false,
   "latex_user_defs": false,
   "report_style_numbering": false,
   "user_envs_cfg": false
  },
  "nbTranslate": {
   "displayLangs": [
    "*"
   ],
   "hotkey": "alt-t",
   "langInMainMenu": true,
   "sourceLang": "en",
   "targetLang": "fr",
   "useGoogleTranslate": true
  },
  "toc": {
   "base_numbering": 1,
   "nav_menu": {},
   "number_sections": true,
   "sideBar": true,
   "skip_h1_title": false,
   "title_cell": "Table of Contents",
   "title_sidebar": "Contents",
   "toc_cell": false,
   "toc_position": {},
   "toc_section_display": true,
   "toc_window_display": false
  },
  "varInspector": {
   "cols": {
    "lenName": 16,
    "lenType": 16,
    "lenVar": 40
   },
   "kernels_config": {
    "python": {
     "delete_cmd_postfix": "",
     "delete_cmd_prefix": "del ",
     "library": "var_list.py",
     "varRefreshCmd": "print(var_dic_list())"
    },
    "r": {
     "delete_cmd_postfix": ") ",
     "delete_cmd_prefix": "rm(",
     "library": "var_list.r",
     "varRefreshCmd": "cat(var_dic_list()) "
    }
   },
   "types_to_exclude": [
    "module",
    "function",
    "builtin_function_or_method",
    "instance",
    "_Feature"
   ],
   "window_display": false
  }
 },
 "nbformat": 4,
 "nbformat_minor": 5
}
