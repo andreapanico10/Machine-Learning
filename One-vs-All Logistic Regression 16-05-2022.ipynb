{
 "cells": [
  {
   "cell_type": "markdown",
   "id": "75a6f3f3",
   "metadata": {},
   "source": [
    "# One-vs-all Logistic Regression"
   ]
  },
  {
   "cell_type": "code",
   "execution_count": 206,
   "id": "70971983",
   "metadata": {
    "ExecuteTime": {
     "end_time": "2022-05-16T14:32:54.176376Z",
     "start_time": "2022-05-16T14:32:54.171767Z"
    }
   },
   "outputs": [],
   "source": [
    "import pandas as pd\n",
    "import numpy as np\n",
    "from matplotlib import pyplot as plt\n",
    "import time \n",
    "from sklearn import datasets \n",
    "from matplotlib import cm\n",
    "import seaborn as sns\n",
    "from scipy.optimize import minimize\n",
    "import math"
   ]
  },
  {
   "cell_type": "code",
   "execution_count": 207,
   "id": "47c328b7",
   "metadata": {
    "ExecuteTime": {
     "end_time": "2022-05-16T14:32:54.380534Z",
     "start_time": "2022-05-16T14:32:54.376881Z"
    }
   },
   "outputs": [],
   "source": [
    "iris_dataset = datasets.load_iris()"
   ]
  },
  {
   "cell_type": "code",
   "execution_count": 208,
   "id": "2b9f52a8",
   "metadata": {
    "ExecuteTime": {
     "end_time": "2022-05-16T14:32:54.533072Z",
     "start_time": "2022-05-16T14:32:54.531063Z"
    }
   },
   "outputs": [],
   "source": [
    "columns = iris_dataset.feature_names\n",
    "y = iris_dataset.target"
   ]
  },
  {
   "cell_type": "code",
   "execution_count": 209,
   "id": "0417d2f4",
   "metadata": {
    "ExecuteTime": {
     "end_time": "2022-05-16T14:32:54.688436Z",
     "start_time": "2022-05-16T14:32:54.686409Z"
    }
   },
   "outputs": [],
   "source": [
    "iris_dataframe = iris_dataset.data"
   ]
  },
  {
   "cell_type": "code",
   "execution_count": 210,
   "id": "5893c650",
   "metadata": {
    "ExecuteTime": {
     "end_time": "2022-05-16T14:32:54.919725Z",
     "start_time": "2022-05-16T14:32:54.914310Z"
    }
   },
   "outputs": [],
   "source": [
    "iris_dataframe = pd.DataFrame(iris_dataframe, columns = columns)\n",
    "iris_dataframe.insert(0, 'Intercept', 1)\n",
    "iris_dataframe.insert(5, 'Label', y)"
   ]
  },
  {
   "cell_type": "code",
   "execution_count": 211,
   "id": "748f8598",
   "metadata": {
    "ExecuteTime": {
     "end_time": "2022-05-16T14:32:55.141916Z",
     "start_time": "2022-05-16T14:32:55.129706Z"
    },
    "scrolled": true
   },
   "outputs": [
    {
     "data": {
      "text/html": [
       "<div>\n",
       "<style scoped>\n",
       "    .dataframe tbody tr th:only-of-type {\n",
       "        vertical-align: middle;\n",
       "    }\n",
       "\n",
       "    .dataframe tbody tr th {\n",
       "        vertical-align: top;\n",
       "    }\n",
       "\n",
       "    .dataframe thead th {\n",
       "        text-align: right;\n",
       "    }\n",
       "</style>\n",
       "<table border=\"1\" class=\"dataframe\">\n",
       "  <thead>\n",
       "    <tr style=\"text-align: right;\">\n",
       "      <th></th>\n",
       "      <th>Intercept</th>\n",
       "      <th>sepal length (cm)</th>\n",
       "      <th>sepal width (cm)</th>\n",
       "      <th>petal length (cm)</th>\n",
       "      <th>petal width (cm)</th>\n",
       "      <th>Label</th>\n",
       "    </tr>\n",
       "  </thead>\n",
       "  <tbody>\n",
       "    <tr>\n",
       "      <th>0</th>\n",
       "      <td>1</td>\n",
       "      <td>5.1</td>\n",
       "      <td>3.5</td>\n",
       "      <td>1.4</td>\n",
       "      <td>0.2</td>\n",
       "      <td>0</td>\n",
       "    </tr>\n",
       "    <tr>\n",
       "      <th>1</th>\n",
       "      <td>1</td>\n",
       "      <td>4.9</td>\n",
       "      <td>3.0</td>\n",
       "      <td>1.4</td>\n",
       "      <td>0.2</td>\n",
       "      <td>0</td>\n",
       "    </tr>\n",
       "    <tr>\n",
       "      <th>2</th>\n",
       "      <td>1</td>\n",
       "      <td>4.7</td>\n",
       "      <td>3.2</td>\n",
       "      <td>1.3</td>\n",
       "      <td>0.2</td>\n",
       "      <td>0</td>\n",
       "    </tr>\n",
       "    <tr>\n",
       "      <th>3</th>\n",
       "      <td>1</td>\n",
       "      <td>4.6</td>\n",
       "      <td>3.1</td>\n",
       "      <td>1.5</td>\n",
       "      <td>0.2</td>\n",
       "      <td>0</td>\n",
       "    </tr>\n",
       "    <tr>\n",
       "      <th>4</th>\n",
       "      <td>1</td>\n",
       "      <td>5.0</td>\n",
       "      <td>3.6</td>\n",
       "      <td>1.4</td>\n",
       "      <td>0.2</td>\n",
       "      <td>0</td>\n",
       "    </tr>\n",
       "    <tr>\n",
       "      <th>...</th>\n",
       "      <td>...</td>\n",
       "      <td>...</td>\n",
       "      <td>...</td>\n",
       "      <td>...</td>\n",
       "      <td>...</td>\n",
       "      <td>...</td>\n",
       "    </tr>\n",
       "    <tr>\n",
       "      <th>145</th>\n",
       "      <td>1</td>\n",
       "      <td>6.7</td>\n",
       "      <td>3.0</td>\n",
       "      <td>5.2</td>\n",
       "      <td>2.3</td>\n",
       "      <td>2</td>\n",
       "    </tr>\n",
       "    <tr>\n",
       "      <th>146</th>\n",
       "      <td>1</td>\n",
       "      <td>6.3</td>\n",
       "      <td>2.5</td>\n",
       "      <td>5.0</td>\n",
       "      <td>1.9</td>\n",
       "      <td>2</td>\n",
       "    </tr>\n",
       "    <tr>\n",
       "      <th>147</th>\n",
       "      <td>1</td>\n",
       "      <td>6.5</td>\n",
       "      <td>3.0</td>\n",
       "      <td>5.2</td>\n",
       "      <td>2.0</td>\n",
       "      <td>2</td>\n",
       "    </tr>\n",
       "    <tr>\n",
       "      <th>148</th>\n",
       "      <td>1</td>\n",
       "      <td>6.2</td>\n",
       "      <td>3.4</td>\n",
       "      <td>5.4</td>\n",
       "      <td>2.3</td>\n",
       "      <td>2</td>\n",
       "    </tr>\n",
       "    <tr>\n",
       "      <th>149</th>\n",
       "      <td>1</td>\n",
       "      <td>5.9</td>\n",
       "      <td>3.0</td>\n",
       "      <td>5.1</td>\n",
       "      <td>1.8</td>\n",
       "      <td>2</td>\n",
       "    </tr>\n",
       "  </tbody>\n",
       "</table>\n",
       "<p>150 rows × 6 columns</p>\n",
       "</div>"
      ],
      "text/plain": [
       "     Intercept  sepal length (cm)  sepal width (cm)  petal length (cm)  \\\n",
       "0            1                5.1               3.5                1.4   \n",
       "1            1                4.9               3.0                1.4   \n",
       "2            1                4.7               3.2                1.3   \n",
       "3            1                4.6               3.1                1.5   \n",
       "4            1                5.0               3.6                1.4   \n",
       "..         ...                ...               ...                ...   \n",
       "145          1                6.7               3.0                5.2   \n",
       "146          1                6.3               2.5                5.0   \n",
       "147          1                6.5               3.0                5.2   \n",
       "148          1                6.2               3.4                5.4   \n",
       "149          1                5.9               3.0                5.1   \n",
       "\n",
       "     petal width (cm)  Label  \n",
       "0                 0.2      0  \n",
       "1                 0.2      0  \n",
       "2                 0.2      0  \n",
       "3                 0.2      0  \n",
       "4                 0.2      0  \n",
       "..                ...    ...  \n",
       "145               2.3      2  \n",
       "146               1.9      2  \n",
       "147               2.0      2  \n",
       "148               2.3      2  \n",
       "149               1.8      2  \n",
       "\n",
       "[150 rows x 6 columns]"
      ]
     },
     "execution_count": 211,
     "metadata": {},
     "output_type": "execute_result"
    }
   ],
   "source": [
    "iris_dataframe"
   ]
  },
  {
   "cell_type": "markdown",
   "id": "201dcb61",
   "metadata": {},
   "source": [
    "# One-vs-all Training strategy: dividing in the 3 classes"
   ]
  },
  {
   "cell_type": "code",
   "execution_count": 212,
   "id": "adb79076",
   "metadata": {
    "ExecuteTime": {
     "end_time": "2022-05-16T14:32:56.119745Z",
     "start_time": "2022-05-16T14:32:56.110207Z"
    }
   },
   "outputs": [],
   "source": [
    "class_0 = iris_dataframe[iris_dataframe['Label'] == 0]\n",
    "class_1 = iris_dataframe[iris_dataframe['Label'] == 1]\n",
    "class_2 = iris_dataframe[iris_dataframe['Label'] == 2]"
   ]
  },
  {
   "cell_type": "markdown",
   "id": "71e327ea",
   "metadata": {},
   "source": [
    "# First classifier (label 0) Training set setup"
   ]
  },
  {
   "cell_type": "code",
   "execution_count": 213,
   "id": "819af56e",
   "metadata": {
    "ExecuteTime": {
     "end_time": "2022-05-16T14:32:57.507881Z",
     "start_time": "2022-05-16T14:32:57.502178Z"
    }
   },
   "outputs": [],
   "source": [
    "classifier_1_pos = class_0.copy()\n",
    "classifier_1_neg = pd.concat([class_1.copy(), class_2.copy()], axis=0)"
   ]
  },
  {
   "cell_type": "code",
   "execution_count": 214,
   "id": "c19a3cee",
   "metadata": {
    "ExecuteTime": {
     "end_time": "2022-05-16T14:32:57.846404Z",
     "start_time": "2022-05-16T14:32:57.841305Z"
    }
   },
   "outputs": [],
   "source": [
    "classifier_1_pos['Label'] = 1\n",
    "classifier_1_neg['Label'] = 0"
   ]
  },
  {
   "cell_type": "code",
   "execution_count": 215,
   "id": "6ea17524",
   "metadata": {
    "ExecuteTime": {
     "end_time": "2022-05-16T14:32:58.290390Z",
     "start_time": "2022-05-16T14:32:58.279172Z"
    }
   },
   "outputs": [],
   "source": [
    "x_1 = pd.concat([classifier_1_pos,classifier_1_neg], axis=0).iloc[:,0:5]\n",
    "y_1 = pd.concat([classifier_1_pos,classifier_1_neg], axis=0).iloc[:,[-1]]"
   ]
  },
  {
   "cell_type": "markdown",
   "id": "a05664ef",
   "metadata": {},
   "source": [
    "# Second classifier (label 1) training set setup"
   ]
  },
  {
   "cell_type": "code",
   "execution_count": 216,
   "id": "78cba507",
   "metadata": {
    "ExecuteTime": {
     "end_time": "2022-05-16T14:32:59.348377Z",
     "start_time": "2022-05-16T14:32:59.343067Z"
    }
   },
   "outputs": [],
   "source": [
    "classifier_2_pos = class_1.copy()\n",
    "classifier_2_neg = pd.concat([class_0.copy(), class_2.copy()], axis=0)"
   ]
  },
  {
   "cell_type": "code",
   "execution_count": 217,
   "id": "c71b068c",
   "metadata": {
    "ExecuteTime": {
     "end_time": "2022-05-16T14:33:01.283950Z",
     "start_time": "2022-05-16T14:33:01.279174Z"
    }
   },
   "outputs": [],
   "source": [
    "classifier_2_pos['Label'] = 1\n",
    "classifier_2_neg['Label'] = 0"
   ]
  },
  {
   "cell_type": "code",
   "execution_count": 218,
   "id": "89436ef8",
   "metadata": {
    "ExecuteTime": {
     "end_time": "2022-05-16T14:33:03.624337Z",
     "start_time": "2022-05-16T14:33:03.615988Z"
    }
   },
   "outputs": [],
   "source": [
    "x_2 = pd.concat([classifier_2_pos,classifier_2_neg], axis=0).iloc[:,0:5]\n",
    "y_2 = pd.concat([classifier_2_pos,classifier_2_neg], axis=0).iloc[:,[-1]]"
   ]
  },
  {
   "cell_type": "markdown",
   "id": "e6c628e7",
   "metadata": {},
   "source": [
    "# Third classifier (label 2) training set setup"
   ]
  },
  {
   "cell_type": "code",
   "execution_count": 219,
   "id": "6c6fa2b9",
   "metadata": {
    "ExecuteTime": {
     "end_time": "2022-05-16T14:33:04.354492Z",
     "start_time": "2022-05-16T14:33:04.345555Z"
    }
   },
   "outputs": [],
   "source": [
    "classifier_3_pos = class_2.copy()\n",
    "classifier_3_neg = pd.concat([class_0.copy(), class_1.copy()], axis=0)"
   ]
  },
  {
   "cell_type": "code",
   "execution_count": 220,
   "id": "705c3844",
   "metadata": {
    "ExecuteTime": {
     "end_time": "2022-05-16T14:33:04.991546Z",
     "start_time": "2022-05-16T14:33:04.987204Z"
    }
   },
   "outputs": [],
   "source": [
    "classifier_3_pos['Label'] = 1\n",
    "classifier_3_neg['Label'] = 0"
   ]
  },
  {
   "cell_type": "code",
   "execution_count": 221,
   "id": "eaf074ba",
   "metadata": {
    "ExecuteTime": {
     "end_time": "2022-05-16T14:33:05.335745Z",
     "start_time": "2022-05-16T14:33:05.326423Z"
    }
   },
   "outputs": [],
   "source": [
    "x_3 = pd.concat([classifier_3_pos,classifier_3_neg], axis=0).iloc[:,0:5]\n",
    "y_3 = pd.concat([classifier_3_pos,classifier_3_neg], axis=0).iloc[:,[-1]]"
   ]
  },
  {
   "cell_type": "markdown",
   "id": "467bbe6e",
   "metadata": {},
   "source": [
    "# Some Maths"
   ]
  },
  {
   "cell_type": "code",
   "execution_count": 222,
   "id": "58f60be4",
   "metadata": {
    "ExecuteTime": {
     "end_time": "2022-05-16T14:33:06.264083Z",
     "start_time": "2022-05-16T14:33:06.258455Z"
    }
   },
   "outputs": [],
   "source": [
    "def sigmoid(z):\n",
    "    return 1/(1+ np.exp(-z))\n"
   ]
  },
  {
   "cell_type": "code",
   "execution_count": 223,
   "id": "ef226117",
   "metadata": {
    "ExecuteTime": {
     "end_time": "2022-05-16T14:33:06.569845Z",
     "start_time": "2022-05-16T14:33:06.563262Z"
    }
   },
   "outputs": [],
   "source": [
    "def gradient(theta, x, y):\n",
    "    \n",
    "    m = x.shape[0]\n",
    "    h = sigmoid(x.dot(theta.reshape(-1,1)))\n",
    "    grad = (1/m)*x.T.dot(h-y)\n",
    "    \n",
    "    return (grad.flatten())"
   ]
  },
  {
   "cell_type": "code",
   "execution_count": 224,
   "id": "6e19e487",
   "metadata": {
    "ExecuteTime": {
     "end_time": "2022-05-16T14:33:06.816886Z",
     "start_time": "2022-05-16T14:33:06.812092Z"
    }
   },
   "outputs": [],
   "source": [
    "def costFunctionVectorized(theta, X, y,):\n",
    "    m = X.shape[0]\n",
    "    \n",
    "    h = sigmoid(X.dot(theta))\n",
    "    \n",
    "    J = -1*(1/m)*(np.log(h).T.dot(y) + np.log(1-h).T.dot(1-y))\n",
    "    \n",
    "    if np.isnan(J[0]):\n",
    "        return (np.inf)\n",
    "    \n",
    "    return (J[0])"
   ]
  },
  {
   "cell_type": "code",
   "execution_count": 235,
   "id": "3cd78729",
   "metadata": {
    "ExecuteTime": {
     "end_time": "2022-05-16T14:34:17.983921Z",
     "start_time": "2022-05-16T14:34:17.938416Z"
    }
   },
   "outputs": [],
   "source": [
    "res_1 = minimize(costFunctionVectorized, np.ones((x_1.shape[1],1)), args=(x_1.values, y_1.values), method=\"BFGS\", jac=gradient)\n",
    "res_2 = minimize(costFunctionVectorized, np.zeros((x_2.shape[1],1)), args=(x_2.values, y_2.values), method=\"BFGS\", jac=gradient)\n",
    "res_3 = minimize(costFunctionVectorized, np.zeros((x_3.shape[1],1)), args=(x_3.values, y_3.values), method=\"BFGS\", jac=gradient)\n",
    "\n"
   ]
  },
  {
   "cell_type": "code",
   "execution_count": 236,
   "id": "36bf371e",
   "metadata": {
    "ExecuteTime": {
     "end_time": "2022-05-16T14:34:18.159049Z",
     "start_time": "2022-05-16T14:34:18.156219Z"
    }
   },
   "outputs": [],
   "source": [
    "theta_1 = res_1.x.reshape(-1,1)\n",
    "theta_2 = res_2.x.reshape(-1,1)\n",
    "theta_3 = res_3.x.reshape(-1,1)"
   ]
  },
  {
   "cell_type": "code",
   "execution_count": 237,
   "id": "09e0e69e",
   "metadata": {
    "ExecuteTime": {
     "end_time": "2022-05-16T14:34:18.371510Z",
     "start_time": "2022-05-16T14:34:18.368320Z"
    }
   },
   "outputs": [],
   "source": [
    "# Mi sto inventando un dato di test\n",
    "unseen_example = np.array([1, 4.8, 3.3, 1.3,0.3]).reshape(1,-1)"
   ]
  },
  {
   "cell_type": "code",
   "execution_count": 268,
   "id": "ea57dcb0",
   "metadata": {
    "ExecuteTime": {
     "end_time": "2022-05-16T14:37:29.186648Z",
     "start_time": "2022-05-16T14:37:29.181379Z"
    }
   },
   "outputs": [],
   "source": [
    "h_score_1 = sigmoid(unseen_example.dot(theta_1)).ravel()[0]\n",
    "h_score_2 = sigmoid(unseen_example.dot(theta_2)).ravel()[0]\n",
    "h_score_3 = sigmoid(unseen_example.dot(theta_3)).ravel()[0]"
   ]
  },
  {
   "cell_type": "code",
   "execution_count": 272,
   "id": "d839f12d",
   "metadata": {
    "ExecuteTime": {
     "end_time": "2022-05-16T14:40:44.516875Z",
     "start_time": "2022-05-16T14:40:44.511729Z"
    }
   },
   "outputs": [
    {
     "name": "stdout",
     "output_type": "stream",
     "text": [
      "Probabilità predetta Label 0: 0.9999999999624847\n",
      "Probabilità predetta Label 1: 0.1039837525822983\n",
      "Probabilità predetta Label 2: 2.988127824706727e-26\n",
      "\n"
     ]
    }
   ],
   "source": [
    "\n",
    "print('Probabilità predetta Label 0: {}\\nProbabilità predetta Label 1: {}\\nProbabilità predetta Label 2: {}\\n'.format(h_score_1, h_score_2, h_score_3))\n",
    "\n",
    "\n"
   ]
  },
  {
   "cell_type": "code",
   "execution_count": null,
   "id": "fbecd498",
   "metadata": {},
   "outputs": [],
   "source": []
  }
 ],
 "metadata": {
  "kernelspec": {
   "display_name": "Python 3",
   "language": "python",
   "name": "python3"
  },
  "language_info": {
   "codemirror_mode": {
    "name": "ipython",
    "version": 3
   },
   "file_extension": ".py",
   "mimetype": "text/x-python",
   "name": "python",
   "nbconvert_exporter": "python",
   "pygments_lexer": "ipython3",
   "version": "3.9.5"
  },
  "latex_envs": {
   "LaTeX_envs_menu_present": true,
   "autoclose": false,
   "autocomplete": true,
   "bibliofile": "biblio.bib",
   "cite_by": "apalike",
   "current_citInitial": 1,
   "eqLabelWithNumbers": true,
   "eqNumInitial": 1,
   "hotkeys": {
    "equation": "Ctrl-E",
    "itemize": "Ctrl-I"
   },
   "labels_anchors": false,
   "latex_user_defs": false,
   "report_style_numbering": false,
   "user_envs_cfg": false
  },
  "nbTranslate": {
   "displayLangs": [
    "*"
   ],
   "hotkey": "alt-t",
   "langInMainMenu": true,
   "sourceLang": "en",
   "targetLang": "fr",
   "useGoogleTranslate": true
  },
  "toc": {
   "base_numbering": 1,
   "nav_menu": {},
   "number_sections": true,
   "sideBar": true,
   "skip_h1_title": false,
   "title_cell": "Table of Contents",
   "title_sidebar": "Contents",
   "toc_cell": false,
   "toc_position": {},
   "toc_section_display": true,
   "toc_window_display": true
  },
  "varInspector": {
   "cols": {
    "lenName": 16,
    "lenType": 16,
    "lenVar": 40
   },
   "kernels_config": {
    "python": {
     "delete_cmd_postfix": "",
     "delete_cmd_prefix": "del ",
     "library": "var_list.py",
     "varRefreshCmd": "print(var_dic_list())"
    },
    "r": {
     "delete_cmd_postfix": ") ",
     "delete_cmd_prefix": "rm(",
     "library": "var_list.r",
     "varRefreshCmd": "cat(var_dic_list()) "
    }
   },
   "types_to_exclude": [
    "module",
    "function",
    "builtin_function_or_method",
    "instance",
    "_Feature"
   ],
   "window_display": false
  }
 },
 "nbformat": 4,
 "nbformat_minor": 5
}
